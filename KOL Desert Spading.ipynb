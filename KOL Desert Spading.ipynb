{
 "cells": [
  {
   "cell_type": "code",
   "execution_count": 1,
   "metadata": {},
   "outputs": [],
   "source": [
    "import random\n",
    "import math\n",
    "import statistics"
   ]
  },
  {
   "cell_type": "code",
   "execution_count": 21,
   "metadata": {},
   "outputs": [
    {
     "name": "stdout",
     "output_type": "stream",
     "text": [
      "==========================================================\n",
      "-- According to this simulator, finding pages will take...\n"
     ]
    },
    {
     "ename": "ValueError",
     "evalue": "cannot switch from automatic field numbering to manual field specification",
     "output_type": "error",
     "traceback": [
      "\u001b[0;31m---------------------------------------------------------------------------\u001b[0m",
      "\u001b[0;31mValueError\u001b[0m                                Traceback (most recent call last)",
      "\u001b[0;32m<ipython-input-21-921280983003>\u001b[0m in \u001b[0;36m<module>\u001b[0;34m\u001b[0m\n\u001b[1;32m     66\u001b[0m     \u001b[0;32melse\u001b[0m\u001b[0;34m:\u001b[0m\u001b[0;34m\u001b[0m\u001b[0;34m\u001b[0m\u001b[0m\n\u001b[1;32m     67\u001b[0m         \u001b[0my\u001b[0m \u001b[0;34m=\u001b[0m \u001b[0;34m''\u001b[0m\u001b[0;34m\u001b[0m\u001b[0;34m\u001b[0m\u001b[0m\n\u001b[0;32m---> 68\u001b[0;31m     \u001b[0mprint\u001b[0m\u001b[0;34m(\u001b[0m\u001b[0;34m\"     - {}{} turns {0.00}% of the time\"\u001b[0m\u001b[0;34m.\u001b[0m\u001b[0mformat\u001b[0m\u001b[0;34m(\u001b[0m\u001b[0my\u001b[0m\u001b[0;34m,\u001b[0m\u001b[0mx\u001b[0m\u001b[0;34m,\u001b[0m\u001b[0;36m100\u001b[0m\u001b[0;34m*\u001b[0m\u001b[0msimList\u001b[0m\u001b[0;34m.\u001b[0m\u001b[0mcount\u001b[0m\u001b[0;34m(\u001b[0m\u001b[0mx\u001b[0m\u001b[0;34m)\u001b[0m\u001b[0;34m/\u001b[0m\u001b[0mn\u001b[0m\u001b[0;34m)\u001b[0m\u001b[0;34m)\u001b[0m\u001b[0;34m\u001b[0m\u001b[0;34m\u001b[0m\u001b[0m\n\u001b[0m",
      "\u001b[0;31mValueError\u001b[0m: cannot switch from automatic field numbering to manual field specification"
     ]
    }
   ],
   "source": [
    "# ASSUMPTIONS: \n",
    "#   - You have already talked to Gnasir.\n",
    "#   - KOL is using a simple coin flip for 2 vs 3 pages.\n",
    "#   - Rates are 25% -> 50% -> 75% -> 100%\n",
    "\n",
    "class desertSim():\n",
    "    def __init__(self):\n",
    "        self.turnsSpent = 0\n",
    "        self.pageProbs = {0:25,1:50,2:75,3:100}\n",
    "        self.resultList = []\n",
    "    \n",
    "    def prepareSim(self):\n",
    "        self.turnsSpent = 0\n",
    "        self.totalPages = 0\n",
    "        self.turnsSincePage = 0\n",
    "        \n",
    "    def runAdv(self):\n",
    "        pageProb = self.pageProbs[self.turnsSincePage]\n",
    "        \n",
    "        if random.randint(1,100) <= pageProb:\n",
    "            \n",
    "            if self.totalPages == 0:\n",
    "                self.totalPages += 1 \n",
    "                self.turnsSincePage = 0\n",
    "                return True\n",
    "            \n",
    "            else:\n",
    "                if random.randint(1,100) <= 50:\n",
    "                    newPages = 3\n",
    "                else:\n",
    "                    newPages = 2\n",
    "                \n",
    "                self.totalPages += newPages\n",
    "                if self.totalPages >= 15: \n",
    "                    self.totalPages = 15\n",
    "                    self.resultList += [self.turnsSpent]\n",
    "                self.turnsSincePage = 0\n",
    "                return True\n",
    "            \n",
    "        else:\n",
    "            self.turnsSincePage +=1\n",
    "            return True\n",
    "    \n",
    "    def runDesert(self):\n",
    "        self.prepareSim()\n",
    "        while self.totalPages < 15:\n",
    "            if self.runAdv():\n",
    "                self.turnsSpent +=1\n",
    "        \n",
    "    def runSimulations(self, runcount=10000):\n",
    "        runs = []\n",
    "        for i in range(runcount):\n",
    "            self.runDesert()\n",
    "        return self.resultList\n",
    "    \n",
    "\n",
    "n = 10000\n",
    "simList = desertSim().runSimulations(runcount=n)\n",
    "\n",
    "\n",
    "print(\"==========================================================\")\n",
    "print(\"-- According to this simulator, finding pages will take...\")\n",
    "for x in range(min(simList), max(simList), 1):\n",
    "    if x < 10: \n",
    "        y = ' ' \n",
    "    else: \n",
    "        y = ''\n",
    "    print(\"     - {}{} turns {}% of the time\".format(y,x,100*simList.count(x)/n))"
   ]
  }
 ],
 "metadata": {
  "kernelspec": {
   "display_name": "Python 3",
   "language": "python",
   "name": "python3"
  },
  "language_info": {
   "codemirror_mode": {
    "name": "ipython",
    "version": 3
   },
   "file_extension": ".py",
   "mimetype": "text/x-python",
   "name": "python",
   "nbconvert_exporter": "python",
   "pygments_lexer": "ipython3",
   "version": "3.7.4"
  }
 },
 "nbformat": 4,
 "nbformat_minor": 2
}
