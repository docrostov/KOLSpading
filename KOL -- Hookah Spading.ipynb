{
 "cells": [
  {
   "cell_type": "code",
   "execution_count": 1,
   "metadata": {},
   "outputs": [],
   "source": [
    "import pandas as pd\n",
    "import os\n",
    "import requests\n",
    "import numpy as np\n",
    "from collections import Counter\n",
    "\n",
    "import seaborn as sb\n",
    "from matplotlib import pyplot as plt\n",
    "\n",
    "# Import modifiers from the most recent KOLMafia build. \n",
    "mafiaMODS = requests.get('https://svn.code.sf.net/p/kolmafia/code/src/data/modifiers.txt').text"
   ]
  },
  {
   "cell_type": "code",
   "execution_count": 2,
   "metadata": {},
   "outputs": [],
   "source": [
    "import warnings\n",
    "warnings.simplefilter('ignore')"
   ]
  },
  {
   "cell_type": "code",
   "execution_count": 12,
   "metadata": {},
   "outputs": [
    {
     "name": "stdout",
     "output_type": "stream",
     "text": [
      "There have been 1687 hookah activations in your sessions.\n",
      "\n",
      "There have been 5911 hookah activations in your sessions.\n"
     ]
    }
   ],
   "source": [
    "sessionDir   = '/Users/amcguire/Library/Application Support/KoLmafia/sessions'\n",
    "    \n",
    "# get all hookah effects\n",
    "\n",
    "hookah = []\n",
    "\n",
    "# Start with my sessions & the few sent by Lyft/Aen\n",
    "for file in os.listdir(sessionDir):\n",
    "    \n",
    "    # I use a Mac, so I have to correct for my DS store hidden files\n",
    "    if file not in ['.DS_Store','bosskillinghookah.7z','Lyft_ascend20190211.txt',\n",
    "                    'bosskillinghookah','Lyft_ascend20190211.html','Lyft -- 2d442advs.xlsx']:\n",
    "        \n",
    "        currFile = open('{}/{}'.format(sessionDir, file)).read()\n",
    "\n",
    "        for ct, line in enumerate(currFile.split(sep='\\n')):\n",
    "            if line[0:22] == 'You acquire an effect:': # Always the starting string.\n",
    "                if line[-3:] == '(6)': # Hookah activations always give 6 turns.\n",
    "                    hookah = hookah + [line[23:-3].strip()] # Add it to the list!\n",
    "                    \n",
    "print('There have been {} hookah activations in your sessions.'.format(len(hookah)))\n",
    "\n",
    "# Then add Dict's sessions!\n",
    "for file in os.listdir(sessionDir+'/bosskillinghookah/'):\n",
    "    \n",
    "    # I use a Mac, so I have to correct for my DS store hidden files\n",
    "    if file not in ['.DS_Store','bosskillinghookah.7z','Lyft_ascend20190211.txt',\n",
    "                    'bosskillinghookah','Lyft_ascend20190211.html','Lyft -- 2d442advs.xlsx']:\n",
    "        \n",
    "        currFile = open('{}/{}'.format(sessionDir+'/bosskillinghookah/', file)).read()\n",
    "\n",
    "        for ct, line in enumerate(currFile.split(sep='\\n')):\n",
    "            if line[0:22] == 'You acquire an effect:': # Always the starting string.\n",
    "                if line[-3:] == '(6)': # Hookah activations always give 6 turns.\n",
    "                    hookah = hookah + [line[23:-3].strip()] # Add it to the list!\n",
    "                    \n",
    "print('\\nThere have been {} hookah activations in your sessions.'.format(len(hookah)))"
   ]
  },
  {
   "cell_type": "markdown",
   "metadata": {},
   "source": [
    "# WAYS HOOKAH EFFECTS CAN ACTUALLY SAVE TURNS, CATEGORIZED\n",
    "    1. generating inigos in a free fight so you have all 5 turns of it (1 turn)\n",
    "    2. the stone wool effect (depending on temple status can save a semirare or hunting for wool)\n",
    "    3. meat drop effects when you're doing nuns (anywhere from <1 to 2 turns @ maximum)\n",
    "    4. item drop effects when you're short on capping something (<1 turn)\n",
    "    5. init for modern zmobs (1-2 turns potentially)\n",
    "    6. sleaze dmg for protestor mob (very rare, but possibly saves a wish?)\n",
    "    7. prismatic dmg for tavern (or just whatever your missing, saves a turn maybe); NOT COVERED\n",
    "    8. sleaze res for blech house (rare and almost certainly 100% unnecessary)\n",
    "    9. covetous robbery making you extremely rich early in-run\n",
    "    10. +statgain flat or % effects\n",
    "    11. very, very high stat increases"
   ]
  },
  {
   "cell_type": "code",
   "execution_count": 16,
   "metadata": {},
   "outputs": [],
   "source": [
    "def modParse(x):\n",
    "    ''' Quick custom function w/ exception for parsing modifiers from plaintext '''\n",
    "    try: \n",
    "        return int(x.split('+')[1])\n",
    "    except:\n",
    "        return 0\n",
    "\n",
    "def parseEffects(eff):\n",
    "    ''' Function to parse through effects and generate #s according to useful in-run\n",
    "        applications of hookah/horsery effects, per those examined above. I am ignoring\n",
    "        Prismatic damage out of laziness; if you want to add it, just do a long \n",
    "        any-type list comp like I did for the flat/pct stats. '''\n",
    "    \n",
    "    meatDrop  = 0\n",
    "    itemDrop  = 0\n",
    "    init      = 0\n",
    "    sleazeDmg = 0\n",
    "    sleaseRes = 0\n",
    "    poolSkill = 0\n",
    "    \n",
    "    famWeight = 0\n",
    "    \n",
    "    flatXP    = 0\n",
    "    pctXP     = 0\n",
    "    \n",
    "    flatstat  = 0\n",
    "    pctstat   = 0\n",
    "    \n",
    "    for x in eff:\n",
    "        \n",
    "        if     'Initiative'            in x: init = init + modParse(x)\n",
    "        elif   'Meat Drop'             in x: meatDrop = meatDrop + modParse(x)\n",
    "        elif   'Item Drop'             in x: itemDrop = itemDrop + modParse(x)\n",
    "        elif   'Sleaze Damage'         in x: sleazeDmg = sleazeDmg + modParse(x)\n",
    "        elif   'Sleaze Spell Damage'   in x: sleazeDmg = sleazeDmg + modParse(x)\n",
    "        elif   'Sleaze Resistance'     in x: sleaseRes = sleaseRes + modParse(x)\n",
    "        elif   'Pool Skill'            in x: poolSkill = poolSkill + modParse(x)\n",
    "            \n",
    "        elif   'Familiar Weight'       in x: famWeight = famWeight + modParse(x)\n",
    "        \n",
    "        elif   'Experience Percent'    in x: pctXP = pctXP + modParse(x)\n",
    "        elif   'Experience (Familiar)' in x: flatXP = flatXP + 0\n",
    "        elif   'Experience'            in x: flatXP = flatXP + modParse(x)\n",
    "        \n",
    "        elif any(y in x for y in ['Moxie Percent','Mysticality Percent','Muscle Percent']): \n",
    "            pctstat = pctstat + modParse(x) \n",
    "        elif any(y in x for y in ['Moxie','Mysticality','Muscle']): \n",
    "            flatstat = flatstat + modParse(x)\n",
    "    \n",
    "    effDict = {'meat':meatDrop, 'item':itemDrop,'init':init, 'sleazeDmg':sleazeDmg, \n",
    "               'sleazeRes':sleaseRes, 'poolSkill':poolSkill, 'famWeight':famWeight,\n",
    "               'flatXP':flatXP,'pctXP':pctXP,'flatStats':flatstat,'pctStat':pctstat}\n",
    "    \n",
    "    return effDict\n",
    "\n",
    "def parseRawMods(txt):\n",
    "    ''' Parsing out what the effects actually do. Generates a dictionary. '''\n",
    "    if txt == '': # Remove blank rows.\n",
    "        return ''\n",
    "    elif txt[0] == '#': # Remove comments.\n",
    "        return ''\n",
    "    elif txt == '3': # Remove the weird extraneous \"3\" that starts the file\n",
    "        return ''\n",
    "    elif '\\tAvatar: ' in txt: # Remove avatar potions.\n",
    "        return\n",
    "    \n",
    "    effType = txt.split('\\t')[0]\n",
    "    effName = txt.split('\\t')[1]\n",
    "    effects = txt.split('\\t')[2].split(',')\n",
    "    effDict = parseEffects(effects)\n",
    "    \n",
    "    return {'NAME':effName,'TYPE':effType,'EFFECTSLIST':effects, **effDict}\n",
    "    \n",
    "modsList = list(filter(None, [parseRawMods(x) for x in mafiaMODS.split('\\n')]))\n",
    "modsDF = pd.DataFrame(modsList)"
   ]
  },
  {
   "cell_type": "code",
   "execution_count": 15,
   "metadata": {},
   "outputs": [
    {
     "data": {
      "text/html": [
       "<div>\n",
       "<style scoped>\n",
       "    .dataframe tbody tr th:only-of-type {\n",
       "        vertical-align: middle;\n",
       "    }\n",
       "\n",
       "    .dataframe tbody tr th {\n",
       "        vertical-align: top;\n",
       "    }\n",
       "\n",
       "    .dataframe thead th {\n",
       "        text-align: right;\n",
       "    }\n",
       "</style>\n",
       "<table border=\"1\" class=\"dataframe\">\n",
       "  <thead>\n",
       "    <tr style=\"text-align: right;\">\n",
       "      <th></th>\n",
       "      <th>EFFECTSLIST</th>\n",
       "      <th>NAME</th>\n",
       "      <th>TYPE</th>\n",
       "      <th>famWeight</th>\n",
       "      <th>flatStats</th>\n",
       "      <th>flatXP</th>\n",
       "      <th>init</th>\n",
       "      <th>item</th>\n",
       "      <th>meat</th>\n",
       "      <th>pctStat</th>\n",
       "      <th>pctXP</th>\n",
       "      <th>poolSkill</th>\n",
       "      <th>sleazeDmg</th>\n",
       "      <th>sleazeRes</th>\n",
       "    </tr>\n",
       "  </thead>\n",
       "  <tbody>\n",
       "    <tr>\n",
       "      <th>5150</th>\n",
       "      <td>[Damage Reduction: 3]</td>\n",
       "      <td>Stone-Faced</td>\n",
       "      <td>Effect</td>\n",
       "      <td>0</td>\n",
       "      <td>0</td>\n",
       "      <td>0</td>\n",
       "      <td>0</td>\n",
       "      <td>0</td>\n",
       "      <td>0</td>\n",
       "      <td>0</td>\n",
       "      <td>0</td>\n",
       "      <td>0</td>\n",
       "      <td>0</td>\n",
       "      <td>0</td>\n",
       "    </tr>\n",
       "  </tbody>\n",
       "</table>\n",
       "</div>"
      ],
      "text/plain": [
       "                EFFECTSLIST         NAME    TYPE  famWeight  flatStats  \\\n",
       "5150  [Damage Reduction: 3]  Stone-Faced  Effect          0          0   \n",
       "\n",
       "      flatXP  init  item  meat  pctStat  pctXP  poolSkill  sleazeDmg  \\\n",
       "5150       0     0     0     0        0      0          0          0   \n",
       "\n",
       "      sleazeRes  \n",
       "5150          0  "
      ]
     },
     "execution_count": 15,
     "metadata": {},
     "output_type": "execute_result"
    }
   ],
   "source": [
    "modsDF.loc[modsDF['NAME']=='Stone-Faced',]"
   ]
  },
  {
   "cell_type": "code",
   "execution_count": 17,
   "metadata": {},
   "outputs": [
    {
     "name": "stdout",
     "output_type": "stream",
     "text": [
      "The Halls of Moxiousness gives the effects: [list(['Experience (Moxie): +3'])]\n",
      "Always be Collecting gives the effects: [list(['Item Drop: +50', ' Meat Drop: +100'])]\n",
      "The Wisdom... of the Future gives the effects: [list(['Mysticality Percent: +50', ' Mysticality: +15', ' Experience (Mysticality): +3'])]\n",
      "Spiky Hair gives the effects: [list(['Muscle: +6', ' Moxie: +6'])]\n",
      "Cruisin' for a Bruisin' gives the effects: [list(['Weapon Damage Percent: +100'])]\n"
     ]
    }
   ],
   "source": [
    "# testing to make sure the effects are properly generating\n",
    "\n",
    "for x in hookah[5:10]:\n",
    "    print('{} gives the effects: {}'.format(x, modsDF.loc[modsDF['NAME']==x,'EFFECTSLIST'].values))"
   ]
  },
  {
   "cell_type": "code",
   "execution_count": 19,
   "metadata": {},
   "outputs": [
    {
     "name": "stdout",
     "output_type": "stream",
     "text": [
      "                      NAME  hookah\n",
      "4254    Go Get 'Em, Tiger!      17\n",
      "5170            Sugar Rush      16\n",
      "4248  Glittering Eyelashes      15\n",
      "5017         Sleazy Weapon      13\n",
      "3641   Angry like the Wolf      12\n"
     ]
    },
    {
     "data": {
      "text/html": [
       "<div>\n",
       "<style scoped>\n",
       "    .dataframe tbody tr th:only-of-type {\n",
       "        vertical-align: middle;\n",
       "    }\n",
       "\n",
       "    .dataframe tbody tr th {\n",
       "        vertical-align: top;\n",
       "    }\n",
       "\n",
       "    .dataframe thead th {\n",
       "        text-align: right;\n",
       "    }\n",
       "</style>\n",
       "<table border=\"1\" class=\"dataframe\">\n",
       "  <thead>\n",
       "    <tr style=\"text-align: right;\">\n",
       "      <th></th>\n",
       "      <th>NAME</th>\n",
       "      <th>hookah</th>\n",
       "    </tr>\n",
       "  </thead>\n",
       "  <tbody>\n",
       "    <tr>\n",
       "      <th>5017</th>\n",
       "      <td>Sleazy Weapon</td>\n",
       "      <td>13</td>\n",
       "    </tr>\n",
       "    <tr>\n",
       "      <th>3641</th>\n",
       "      <td>Angry like the Wolf</td>\n",
       "      <td>12</td>\n",
       "    </tr>\n",
       "    <tr>\n",
       "      <th>3670</th>\n",
       "      <td>Astral Shell</td>\n",
       "      <td>11</td>\n",
       "    </tr>\n",
       "    <tr>\n",
       "      <th>5496</th>\n",
       "      <td>20/20 Vision</td>\n",
       "      <td>11</td>\n",
       "    </tr>\n",
       "    <tr>\n",
       "      <th>4694</th>\n",
       "      <td>Neuroplastici Tea</td>\n",
       "      <td>11</td>\n",
       "    </tr>\n",
       "    <tr>\n",
       "      <th>4394</th>\n",
       "      <td>Human-Elf Hybrid</td>\n",
       "      <td>11</td>\n",
       "    </tr>\n",
       "    <tr>\n",
       "      <th>4285</th>\n",
       "      <td>Grrrrrrreat!</td>\n",
       "      <td>11</td>\n",
       "    </tr>\n",
       "    <tr>\n",
       "      <th>3804</th>\n",
       "      <td>Bricked-In</td>\n",
       "      <td>11</td>\n",
       "    </tr>\n",
       "    <tr>\n",
       "      <th>3584</th>\n",
       "      <td>20/20 Vision</td>\n",
       "      <td>11</td>\n",
       "    </tr>\n",
       "    <tr>\n",
       "      <th>4231</th>\n",
       "      <td>Fustulent</td>\n",
       "      <td>11</td>\n",
       "    </tr>\n",
       "  </tbody>\n",
       "</table>\n",
       "</div>"
      ],
      "text/plain": [
       "                     NAME  hookah\n",
       "5017        Sleazy Weapon      13\n",
       "3641  Angry like the Wolf      12\n",
       "3670         Astral Shell      11\n",
       "5496         20/20 Vision      11\n",
       "4694    Neuroplastici Tea      11\n",
       "4394     Human-Elf Hybrid      11\n",
       "4285         Grrrrrrreat!      11\n",
       "3804           Bricked-In      11\n",
       "3584         20/20 Vision      11\n",
       "4231            Fustulent      11"
      ]
     },
     "execution_count": 19,
     "metadata": {},
     "output_type": "execute_result"
    }
   ],
   "source": [
    "# Use an efficient counter function to figure out how many activations each respective skill had\n",
    "countHookah = Counter(hookah)\n",
    "modsDF['hookah'] = [countHookah[x] for x in modsDF.NAME]\n",
    "\n",
    "# When sorting by activations, noticed that Sugar Rush & the general \n",
    "#   store effects were high up. This makes some sense, as those can \n",
    "#   be generated in multiples of 3. Will floor these to 5 on the \n",
    "#   assumption mafia is incorrectly categorizing them.\n",
    "\n",
    "print(modsDF.loc[:,['NAME','hookah']].sort_values(by=['hookah'],ascending=False).head(5))\n",
    "\n",
    "for effect in ['Sugar Rush', \"Go Get 'Em, Tiger!\", \"Glittering Eyelashes\", \"Butt-Rock Hair\"]:\n",
    "    modsDF.loc[modsDF['NAME'] == effect,['hookah']] = 5\n",
    "\n",
    "modsDF.loc[:,['NAME','hookah']].sort_values(by=['hookah'],ascending=False).head(10)"
   ]
  },
  {
   "cell_type": "code",
   "execution_count": 20,
   "metadata": {},
   "outputs": [
    {
     "data": {
      "text/html": [
       "<div>\n",
       "<style scoped>\n",
       "    .dataframe tbody tr th:only-of-type {\n",
       "        vertical-align: middle;\n",
       "    }\n",
       "\n",
       "    .dataframe tbody tr th {\n",
       "        vertical-align: top;\n",
       "    }\n",
       "\n",
       "    .dataframe thead th {\n",
       "        text-align: right;\n",
       "    }\n",
       "</style>\n",
       "<table border=\"1\" class=\"dataframe\">\n",
       "  <thead>\n",
       "    <tr style=\"text-align: right;\">\n",
       "      <th></th>\n",
       "      <th>EFFECTSLIST</th>\n",
       "      <th>NAME</th>\n",
       "    </tr>\n",
       "  </thead>\n",
       "  <tbody>\n",
       "    <tr>\n",
       "      <th>3579</th>\n",
       "      <td>[Moxie: -5]</td>\n",
       "      <td>&amp;quot;The Disease&amp;quot;</td>\n",
       "    </tr>\n",
       "    <tr>\n",
       "      <th>3581</th>\n",
       "      <td>[Muscle: +6,  Moxie: -3]</td>\n",
       "      <td>1337p4n7Z</td>\n",
       "    </tr>\n",
       "    <tr>\n",
       "      <th>3582</th>\n",
       "      <td>[Experience: +3,  Experience (familiar): +3]</td>\n",
       "      <td>2 Hearts, 1 Mind</td>\n",
       "    </tr>\n",
       "    <tr>\n",
       "      <th>3588</th>\n",
       "      <td>[Familiar Weight: +5,  Experience (familiar): ...</td>\n",
       "      <td>A Girl Named Sue</td>\n",
       "    </tr>\n",
       "    <tr>\n",
       "      <th>3589</th>\n",
       "      <td>[Monster Level: +2]</td>\n",
       "      <td>[597]A Little Bit Evil</td>\n",
       "    </tr>\n",
       "  </tbody>\n",
       "</table>\n",
       "</div>"
      ],
      "text/plain": [
       "                                            EFFECTSLIST  \\\n",
       "3579                                        [Moxie: -5]   \n",
       "3581                           [Muscle: +6,  Moxie: -3]   \n",
       "3582       [Experience: +3,  Experience (familiar): +3]   \n",
       "3588  [Familiar Weight: +5,  Experience (familiar): ...   \n",
       "3589                                [Monster Level: +2]   \n",
       "\n",
       "                         NAME  \n",
       "3579  &quot;The Disease&quot;  \n",
       "3581                1337p4n7Z  \n",
       "3582         2 Hearts, 1 Mind  \n",
       "3588         A Girl Named Sue  \n",
       "3589   [597]A Little Bit Evil  "
      ]
     },
     "execution_count": 20,
     "metadata": {},
     "output_type": "execute_result"
    }
   ],
   "source": [
    "# Looking at effects that do not appear to be hookah-activated, we see a \n",
    "#   lot of ML & \"negative\" effects; this fits our intuition. That said, \n",
    "#   there are a few here that are probably actually eligible.\n",
    "\n",
    "modsDF.loc[(modsDF['hookah']==0) & (modsDF['TYPE'] == 'Effect'),['EFFECTSLIST','NAME']].head()"
   ]
  },
  {
   "cell_type": "code",
   "execution_count": 21,
   "metadata": {},
   "outputs": [
    {
     "name": "stdout",
     "output_type": "stream",
     "text": [
      "Stone-Faced occurred in 5 of 5911 activations, a rate of 0.08%.\n",
      "Craft Tea occurred in 3 of 5911 activations, a rate of 0.05%.\n",
      "Inigo's Incantation of Inspiration occurred in 4 of 5911 activations, a rate of 0.07%.\n",
      "Covetous Robbery occurred in 6 of 5911 activations, a rate of 0.10%.\n",
      "Dirty Pear occurred in 2 of 5911 activations, a rate of 0.03%.\n"
     ]
    }
   ],
   "source": [
    "# Effects that are useful in and of themselves:\n",
    "\n",
    "usefulEffects = ['Stone-Faced', 'Craft Tea', \"Inigo's Incantation of Inspiration\", \"Covetous Robbery\",\"Dirty Pear\"]\n",
    "\n",
    "for eff in usefulEffects:\n",
    "    print('{} occurred in {} of {} activations, a rate of {:.2%}.'.format(eff,countHookah[eff],len(hookah),countHookah[eff]/len(hookah)))"
   ]
  },
  {
   "cell_type": "code",
   "execution_count": 22,
   "metadata": {},
   "outputs": [],
   "source": [
    "def summarizeField(df, fName, c='g', lowBound=0):\n",
    "    ''' Summarization function for individual fields. '''\n",
    "    \n",
    "    # Filter down to only effects w/ hookah activations & relevant column for summarization\n",
    "    df = df.loc[df['hookah']>0,[fName,'hookah']]\n",
    "    \n",
    "    allActivations = sum(df['hookah'])\n",
    "    \n",
    "    # Cut out non-relevant activations now that we know the #\n",
    "    df = df.loc[df[fName]>lowBound,:]\n",
    "    \n",
    "    print('For {}, there were {} relevant activations out of {}, a rate of {:.2%}.\\n'.format(fName,sum(df['hookah']),allActivations,sum(df['hookah'])/allActivations))\n",
    "    \n",
    "    allAvg = sum(df[fName]*df['hookah'])/allActivations\n",
    "    popAvg = sum(df[fName]*df['hookah'])/sum(df['hookah'])\n",
    "    print('  Average per activation:    +{:0.5}'.format(allAvg))\n",
    "    print('  Average when activated:    +{:0.5}\\n'.format(popAvg))\n",
    "    print('  Maximum buff:              +{}, {} times\\n'.format(max(df[fName].values),sum(df.loc[df[fName]==max(df[fName]),['hookah']].values[0])))\n",
    "    \n",
    "    # Generate a nice histogram of the distribution of activation buffs assuming equal activations\n",
    "    fig, ax = plt.subplots()\n",
    "    sb.distplot(df[fName],kde = False, color=c,ax=ax)\n",
    "    ax.set(ylabel=\"# of Activations\") \n",
    "    sb.set_style(\"dark\")\n",
    "    sb.despine()\n",
    "    plt.show()\n",
    "    "
   ]
  },
  {
   "cell_type": "code",
   "execution_count": 23,
   "metadata": {
    "scrolled": false
   },
   "outputs": [
    {
     "name": "stdout",
     "output_type": "stream",
     "text": [
      "For init, there were 363 relevant activations out of 5545, a rate of 6.55%.\n",
      "\n",
      "  Average per activation:    +3.3365\n",
      "  Average when activated:    +50.967\n",
      "\n",
      "  Maximum buff:              +300, 7 times\n",
      "\n"
     ]
    },
    {
     "data": {
      "image/png": "[encoded data removed]",
      "text/plain": [
       "<Figure size 432x288 with 1 Axes>"
      ]
     },
     "metadata": {},
     "output_type": "display_data"
    },
    {
     "name": "stdout",
     "output_type": "stream",
     "text": [
      "For meat, there were 263 relevant activations out of 5545, a rate of 4.74%.\n",
      "\n",
      "  Average per activation:    +2.1959\n",
      "  Average when activated:    +46.297\n",
      "\n",
      "  Maximum buff:              +200, 7 times\n",
      "\n"
     ]
    },
    {
     "data": {
      "image/png": "[encoded data removed]",
      "text/plain": [
       "<Figure size 432x288 with 1 Axes>"
      ]
     },
     "metadata": {},
     "output_type": "display_data"
    },
    {
     "name": "stdout",
     "output_type": "stream",
     "text": [
      "For item, there were 392 relevant activations out of 5545, a rate of 7.07%.\n",
      "\n",
      "  Average per activation:    +1.7151\n",
      "  Average when activated:    +24.26\n",
      "\n",
      "  Maximum buff:              +100, 6 times\n",
      "\n"
     ]
    },
    {
     "data": {
      "image/png": "[encoded data removed]",
      "text/plain": [
       "<Figure size 432x288 with 1 Axes>"
      ]
     },
     "metadata": {},
     "output_type": "display_data"
    },
    {
     "name": "stdout",
     "output_type": "stream",
     "text": [
      "For sleazeDmg, there were 211 relevant activations out of 5545, a rate of 3.81%.\n",
      "\n",
      "  Average per activation:    +0.86456\n",
      "  Average when activated:    +22.72\n",
      "\n",
      "  Maximum buff:              +100, 2 times\n",
      "\n"
     ]
    },
    {
     "data": {
      "image/png": "[encoded data removed]",
      "text/plain": [
       "<Figure size 432x288 with 1 Axes>"
      ]
     },
     "metadata": {},
     "output_type": "display_data"
    },
    {
     "name": "stdout",
     "output_type": "stream",
     "text": [
      "For sleazeRes, there were 184 relevant activations out of 5545, a rate of 3.32%.\n",
      "\n",
      "  Average per activation:    +0.080613\n",
      "  Average when activated:    +2.4293\n",
      "\n",
      "  Maximum buff:              +9, 3 times\n",
      "\n"
     ]
    },
    {
     "data": {
      "image/png": "[encoded data removed]",
      "text/plain": [
       "<Figure size 432x288 with 1 Axes>"
      ]
     },
     "metadata": {},
     "output_type": "display_data"
    },
    {
     "name": "stdout",
     "output_type": "stream",
     "text": [
      "For poolSkill, there were 20 relevant activations out of 5545, a rate of 0.36%.\n",
      "\n",
      "  Average per activation:    +0.014788\n",
      "  Average when activated:    +4.1\n",
      "\n",
      "  Maximum buff:              +5, 5 times\n",
      "\n"
     ]
    },
    {
     "data": {
      "image/png": "[encoded data removed]",
      "text/plain": [
       "<Figure size 432x288 with 1 Axes>"
      ]
     },
     "metadata": {},
     "output_type": "display_data"
    },
    {
     "name": "stdout",
     "output_type": "stream",
     "text": [
      "For famWeight, there were 170 relevant activations out of 5545, a rate of 3.07%.\n",
      "\n",
      "  Average per activation:    +0.18016\n",
      "  Average when activated:    +5.8765\n",
      "\n",
      "  Maximum buff:              +10, 5 times\n",
      "\n"
     ]
    },
    {
     "data": {
      "image/png": "[encoded data removed]",
      "text/plain": [
       "<Figure size 432x288 with 1 Axes>"
      ]
     },
     "metadata": {},
     "output_type": "display_data"
    },
    {
     "name": "stdout",
     "output_type": "stream",
     "text": [
      "For flatXP, there were 337 relevant activations out of 5545, a rate of 6.08%.\n",
      "\n",
      "  Average per activation:    +0.23138\n",
      "  Average when activated:    +3.8071\n",
      "\n",
      "  Maximum buff:              +12, 4 times\n",
      "\n"
     ]
    },
    {
     "data": {
      "image/png": "[encoded data removed]",
      "text/plain": [
       "<Figure size 432x288 with 1 Axes>"
      ]
     },
     "metadata": {},
     "output_type": "display_data"
    },
    {
     "name": "stdout",
     "output_type": "stream",
     "text": [
      "For pctXP, there were 53 relevant activations out of 5545, a rate of 0.96%.\n",
      "\n",
      "  Average per activation:    +0.13616\n",
      "  Average when activated:    +14.245\n",
      "\n",
      "  Maximum buff:              +25, 2 times\n",
      "\n"
     ]
    },
    {
     "data": {
      "image/png": "[encoded data removed]",
      "text/plain": [
       "<Figure size 432x288 with 1 Axes>"
      ]
     },
     "metadata": {},
     "output_type": "display_data"
    },
    {
     "name": "stdout",
     "output_type": "stream",
     "text": [
      "For flatStats, there were 680 relevant activations out of 5545, a rate of 12.26%.\n",
      "\n",
      "  Average per activation:    +2.8757\n",
      "  Average when activated:    +23.45\n",
      "\n",
      "  Maximum buff:              +120, 4 times\n",
      "\n"
     ]
    },
    {
     "data": {
      "image/png": "[encoded data removed]",
      "text/plain": [
       "<Figure size 432x288 with 1 Axes>"
      ]
     },
     "metadata": {},
     "output_type": "display_data"
    },
    {
     "name": "stdout",
     "output_type": "stream",
     "text": [
      "For pctStat, there were 1022 relevant activations out of 5545, a rate of 18.43%.\n",
      "\n",
      "  Average per activation:    +14.701\n",
      "  Average when activated:    +79.76\n",
      "\n",
      "  Maximum buff:              +600, 3 times\n",
      "\n"
     ]
    },
    {
     "data": {
      "image/png": "[encoded data removed]",
      "text/plain": [
       "<Figure size 432x288 with 1 Axes>"
      ]
     },
     "metadata": {},
     "output_type": "display_data"
    }
   ],
   "source": [
    "buffsAnalyzed = ['init','meat','item','sleazeDmg','sleazeRes','poolSkill',\n",
    "                 'famWeight','flatXP','pctXP','flatStats','pctStat']\n",
    "\n",
    "cmap = plt.cm.get_cmap('hsv',len(buffsAnalyzed))\n",
    "\n",
    "for i, x in enumerate(buffsAnalyzed):\n",
    "    summarizeField(modsDF, x, c=cmap(i))"
   ]
  },
  {
   "cell_type": "code",
   "execution_count": 24,
   "metadata": {},
   "outputs": [],
   "source": [
    "modsDF.to_csv('hookahData.csv')"
   ]
  }
 ],
 "metadata": {
  "kernelspec": {
   "display_name": "Python 3",
   "language": "python",
   "name": "python3"
  },
  "language_info": {
   "codemirror_mode": {
    "name": "ipython",
    "version": 3
   },
   "file_extension": ".py",
   "mimetype": "text/x-python",
   "name": "python",
   "nbconvert_exporter": "python",
   "pygments_lexer": "ipython3",
   "version": "3.6.5"
  }
 },
 "nbformat": 4,
 "nbformat_minor": 2
}
