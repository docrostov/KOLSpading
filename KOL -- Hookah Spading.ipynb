{
 "cells": [
  {
   "cell_type": "markdown",
   "metadata": {},
   "source": [
    "# HOOKAH SPADING\n",
    "\n",
    "Here's my attempt to summarize hookah impact from my personal activations. A few caveats: \n",
    "- I floored sugar rush & the general store potion effects to 2 activations, because both can come from items that increment in 3s and I suspect my lazy session parser couldn't differentiate hookah from just buying/using those items. that said, I am 90% sure hookah CAN generate those effects. \n",
    "- Also, some of the hookah activations I had ended up having strings that were not matchable with the mafia effects directory. \n",
    "- Also, any effect that isn't strictly one-number (IE, effects having to do with moonsign or fullness or turns of the effect remaining) were not tabulated because I didn't want to. \n",
    "- Also, I ignored the prismatic damage calculation because I also didn't want to.\n",
    "- Also, I summed up mox/myst/mus into one stat for %stat and flat stat, because that felt reasonable-ish. "
   ]
  },
  {
   "cell_type": "code",
   "execution_count": 60,
   "metadata": {},
   "outputs": [],
   "source": [
    "import pandas as pd\n",
    "import requests\n",
    "import numpy as np\n",
    "from collections import Counter\n",
    "\n",
    "import seaborn as sb\n",
    "from matplotlib import pyplot as plt\n",
    "\n",
    "# Import modifiers from the most recent KOLMafia build. \n",
    "mafiaMODS = requests.get('https://svn.code.sf.net/p/kolmafia/code/src/data/modifiers.txt').text"
   ]
  },
  {
   "cell_type": "code",
   "execution_count": 61,
   "metadata": {},
   "outputs": [],
   "source": [
    "import warnings\n",
    "warnings.simplefilter('ignore')"
   ]
  },
  {
   "cell_type": "code",
   "execution_count": 62,
   "metadata": {},
   "outputs": [
    {
     "name": "stdout",
     "output_type": "stream",
     "text": [
      "There have been 1610 hookah activations in your sessions.\n"
     ]
    }
   ],
   "source": [
    "import os\n",
    "\n",
    "sessionDir   = '/Users/amcguire/Library/Application Support/KoLmafia/sessions'\n",
    "    \n",
    "# Extract & save all Hookah effects from my personal logs\n",
    "\n",
    "hookah = []\n",
    "\n",
    "for file in os.listdir(sessionDir):\n",
    "    \n",
    "    # I use a Mac, so I have to correct for my DS store hidden files\n",
    "    if file != '.DS_Store':\n",
    "        \n",
    "        currFile = open('{}/{}'.format(sessionDir, file)).read()\n",
    "\n",
    "        for ct, line in enumerate(currFile.split(sep='\\n')):\n",
    "            if line[0:22] == 'You acquire an effect:': # Always the starting string.\n",
    "                if line[-3:] == '(6)': # Hookah activations always give 6 turns.\n",
    "                    hookah = hookah + [line[23:-3].strip()] # Add it to the list!\n",
    "                    \n",
    "print('There have been {} hookah activations in your sessions.'.format(len(hookah)))\n",
    "\n",
    "f = open(os.getcwd() + 'myEffects.csv','w+',newline='')\n",
    "for h in hookah:\n",
    "    f.write(str(h)+'\\n')\n",
    "f.close()"
   ]
  },
  {
   "cell_type": "code",
   "execution_count": 63,
   "metadata": {},
   "outputs": [
    {
     "name": "stdout",
     "output_type": "stream",
     "text": [
      "Adding Tiaan's, there have now been 2706 hookah activations in all sessions.\n"
     ]
    }
   ],
   "source": [
    "# Extract and use Tiaan's provided data\n",
    "file = open(os.getcwd() + '/tiaanEffects.txt',encoding = \"ISO-8859-1\").read()\n",
    "\n",
    "for ct, line in enumerate(file.split(sep='\\n')[1:]):\n",
    "    hookah = hookah+[line[24:-4]]\n",
    "\n",
    "print(\"Adding Tiaan's, there have now been {} hookah activations in all sessions.\".format(len(hookah)))"
   ]
  },
  {
   "cell_type": "markdown",
   "metadata": {},
   "source": [
    "# WAYS HOOKAH EFFECTS CAN ACTUALLY SAVE TURNS, CATEGORIZED\n",
    "    1.  Generating Inigo's in a free fight so you have all 5 turns of it (1 turn)\n",
    "    2.  The Stone Wool effect (depending on temple status can save a semirare or hunting for wool)\n",
    "    3.  Meat drop effects when you're finishing nuns (anywhere from <1 to 2 turns @ maximum)\n",
    "    4.  Item drop effects when you're short on capping something (<1 turn)\n",
    "    5.  Init for modern zmobies (1-2 turns potentially)\n",
    "    6.  Sleaze damage for the protestor mob (very rare, but possibly saves a wish?)\n",
    "    7.  Prismatic damage for tavern (or just whatever you're missing @ tower, saves a turn maybe); NOT COVERED\n",
    "    8.  Sleaze resist for blech house (rare and almost certainly 100% unnecessary)\n",
    "    9.  Covetous Robbery making you extremely rich early in-run\n",
    "    10. +Stat gain; flat or % effects\n",
    "    11. Very, very high stat increases for scaling fights"
   ]
  },
  {
   "cell_type": "code",
   "execution_count": 64,
   "metadata": {},
   "outputs": [],
   "source": [
    "def modParse(x):\n",
    "    ''' Quick custom function w/ exception for parsing modifiers from plaintext '''\n",
    "    try: \n",
    "        return int(x.split('+')[1])\n",
    "    except:\n",
    "        return 0\n",
    "\n",
    "def parseEffects(eff):\n",
    "    ''' Function to parse through effects and generate #s according to useful in-run\n",
    "        applications of hookah/horsery effects, per those examined above. I am ignoring\n",
    "        Prismatic damage out of laziness; if you want to add it, just do a long \n",
    "        any-type list comp like I did for the flat/pct stats. '''\n",
    "    \n",
    "    meatDrop  = 0\n",
    "    itemDrop  = 0\n",
    "    init      = 0\n",
    "    sleazeDmg = 0\n",
    "    sleaseRes = 0\n",
    "    poolSkill = 0\n",
    "    \n",
    "    famWeight = 0\n",
    "    \n",
    "    flatXP    = 0\n",
    "    pctXP     = 0\n",
    "    \n",
    "    flatstat  = 0\n",
    "    pctstat   = 0\n",
    "    \n",
    "    for x in eff:\n",
    "        \n",
    "        if     'Initiative'            in x: init = init + modParse(x)\n",
    "        elif   'Meat Drop'             in x: meatDrop = meatDrop + modParse(x)\n",
    "        elif   'Item Drop'             in x: itemDrop = itemDrop + modParse(x)\n",
    "        elif   'Sleaze Damage'         in x: sleazeDmg = sleazeDmg + modParse(x)\n",
    "        elif   'Sleaze Spell Damage'   in x: sleazeDmg = sleazeDmg + modParse(x)\n",
    "        elif   'Sleaze Resistance'     in x: sleaseRes = sleaseRes + modParse(x)\n",
    "        elif   'Pool Skill'            in x: poolSkill = poolSkill + modParse(x)\n",
    "            \n",
    "        elif   'Familiar Weight'       in x: famWeight = famWeight + modParse(x)\n",
    "        \n",
    "        elif   'Experience Percent'    in x: pctXP = pctXP + modParse(x)\n",
    "        elif   'Experience (Familiar)' in x: flatXP = flatXP + 0\n",
    "        elif   'Experience'            in x: flatXP = flatXP + modParse(x)\n",
    "        \n",
    "        elif any(y in x for y in ['Moxie Percent','Mysticality Percent','Muscle Percent']): \n",
    "            pctstat = pctstat + modParse(x) \n",
    "        elif any(y in x for y in ['Moxie','Mysticality','Muscle']): \n",
    "            flatstat = flatstat + modParse(x)\n",
    "    \n",
    "    effDict = {'meat':meatDrop, 'item':itemDrop,'init':init, 'sleazeDmg':sleazeDmg, \n",
    "               'sleazeRes':sleaseRes, 'poolSkill':poolSkill, 'famWeight':famWeight,\n",
    "               'flatXP':flatXP,'pctXP':pctXP,'flatStats':flatstat,'pctStat':pctstat}\n",
    "    \n",
    "    return effDict\n",
    "\n",
    "# test it w/ wolf form, which should have 150 mus% and 150 meatdrop\n",
    "# parseEffects(modsDF.loc[modsDF['NAME']=='Wolf Form',['EFFECTS']].values[0][0])"
   ]
  },
  {
   "cell_type": "code",
   "execution_count": 65,
   "metadata": {},
   "outputs": [],
   "source": [
    "def parseRawMods(txt):\n",
    "    ''' Parsing out what the effects actually do. Generates a dictionary. '''\n",
    "    if txt == '': # Remove blank rows.\n",
    "        return ''\n",
    "    elif txt[0] == '#': # Remove comments.\n",
    "        return ''\n",
    "    elif txt == '3': # Remove the weird extraneous \"3\" that starts the file\n",
    "        return ''\n",
    "    elif '\\tAvatar: ' in txt: # Remove avatar potions.\n",
    "        return\n",
    "    \n",
    "    effType = txt.split('\\t')[0]\n",
    "    effName = txt.split('\\t')[1]\n",
    "    effects = txt.split('\\t')[2].split(',')\n",
    "    effDict = parseEffects(effects)\n",
    "    \n",
    "    return {'NAME':effName,'TYPE':effType,'EFFECTSLIST':effects, **effDict}\n",
    "    \n",
    "modsList = list(filter(None, [parseRawMods(x) for x in mafiaMODS.split('\\n')]))\n",
    "modsDF = pd.DataFrame(modsList)"
   ]
  },
  {
   "cell_type": "code",
   "execution_count": 66,
   "metadata": {},
   "outputs": [
    {
     "name": "stdout",
     "output_type": "stream",
     "text": [
      "The Halls of Moxiousness gives the effects: [list(['Experience (Moxie): +3'])]\n",
      "Always be Collecting gives the effects: [list(['Item Drop: +50', ' Meat Drop: +100'])]\n",
      "The Wisdom... of the Future gives the effects: [list(['Mysticality Percent: +50', ' Mysticality: +15', ' Experience (Mysticality): +3'])]\n",
      "Spiky Hair gives the effects: [list(['Muscle: +6', ' Moxie: +6'])]\n",
      "Cruisin' for a Bruisin' gives the effects: [list(['Weapon Damage Percent: +100'])]\n"
     ]
    }
   ],
   "source": [
    "# testing to make sure the effects are properly generating\n",
    "\n",
    "for x in hookah[5:10]:\n",
    "    print('{} gives the effects: {}'.format(x, modsDF.loc[modsDF['NAME']==x,'EFFECTSLIST'].values))"
   ]
  },
  {
   "cell_type": "code",
   "execution_count": 67,
   "metadata": {},
   "outputs": [
    {
     "name": "stdout",
     "output_type": "stream",
     "text": [
      "                            NAME  hookah\n",
      "5167                  Sugar Rush      23\n",
      "4251          Go Get 'Em, Tiger!      15\n",
      "4245        Glittering Eyelashes      10\n",
      "5409  Weapon of Mass Destruction       9\n",
      "5076                 Space Cadet       8\n"
     ]
    },
    {
     "data": {
      "text/html": [
       "<div>\n",
       "<style scoped>\n",
       "    .dataframe tbody tr th:only-of-type {\n",
       "        vertical-align: middle;\n",
       "    }\n",
       "\n",
       "    .dataframe tbody tr th {\n",
       "        vertical-align: top;\n",
       "    }\n",
       "\n",
       "    .dataframe thead th {\n",
       "        text-align: right;\n",
       "    }\n",
       "</style>\n",
       "<table border=\"1\" class=\"dataframe\">\n",
       "  <thead>\n",
       "    <tr style=\"text-align: right;\">\n",
       "      <th></th>\n",
       "      <th>NAME</th>\n",
       "      <th>hookah</th>\n",
       "    </tr>\n",
       "  </thead>\n",
       "  <tbody>\n",
       "    <tr>\n",
       "      <th>5409</th>\n",
       "      <td>Weapon of Mass Destruction</td>\n",
       "      <td>9</td>\n",
       "    </tr>\n",
       "    <tr>\n",
       "      <th>4304</th>\n",
       "      <td>Half-Eaten Brain</td>\n",
       "      <td>8</td>\n",
       "    </tr>\n",
       "    <tr>\n",
       "      <th>3669</th>\n",
       "      <td>Astral Shell</td>\n",
       "      <td>8</td>\n",
       "    </tr>\n",
       "    <tr>\n",
       "      <th>5076</th>\n",
       "      <td>Space Cadet</td>\n",
       "      <td>8</td>\n",
       "    </tr>\n",
       "    <tr>\n",
       "      <th>5439</th>\n",
       "      <td>Wintry Breath</td>\n",
       "      <td>7</td>\n",
       "    </tr>\n",
       "    <tr>\n",
       "      <th>3824</th>\n",
       "      <td>Bugbear in Tooth and Claw</td>\n",
       "      <td>7</td>\n",
       "    </tr>\n",
       "    <tr>\n",
       "      <th>4218</th>\n",
       "      <td>Fruited</td>\n",
       "      <td>7</td>\n",
       "    </tr>\n",
       "    <tr>\n",
       "      <th>4254</th>\n",
       "      <td>Going Ape</td>\n",
       "      <td>7</td>\n",
       "    </tr>\n",
       "    <tr>\n",
       "      <th>4282</th>\n",
       "      <td>Grrrrrrreat!</td>\n",
       "      <td>7</td>\n",
       "    </tr>\n",
       "    <tr>\n",
       "      <th>4816</th>\n",
       "      <td>Pisces Rising</td>\n",
       "      <td>7</td>\n",
       "    </tr>\n",
       "  </tbody>\n",
       "</table>\n",
       "</div>"
      ],
      "text/plain": [
       "                            NAME  hookah\n",
       "5409  Weapon of Mass Destruction       9\n",
       "4304            Half-Eaten Brain       8\n",
       "3669                Astral Shell       8\n",
       "5076                 Space Cadet       8\n",
       "5439               Wintry Breath       7\n",
       "3824   Bugbear in Tooth and Claw       7\n",
       "4218                     Fruited       7\n",
       "4254                   Going Ape       7\n",
       "4282                Grrrrrrreat!       7\n",
       "4816               Pisces Rising       7"
      ]
     },
     "execution_count": 67,
     "metadata": {},
     "output_type": "execute_result"
    }
   ],
   "source": [
    "# Use an efficient counter function to figure out how many activations each respective skill had\n",
    "countHookah = Counter(hookah)\n",
    "modsDF['hookah'] = [countHookah[x] for x in modsDF.NAME]\n",
    "\n",
    "# When sorting by activations, noticed that Sugar Rush & the general \n",
    "#   store effects were high up. This makes some sense, as those can \n",
    "#   be generated in multiples of 3. Will floor these to 2 on the \n",
    "#   assumption mafia is incorrectly categorizing them.\n",
    "\n",
    "print(modsDF.loc[:,['NAME','hookah']].sort_values(by=['hookah'],ascending=False).head(5))\n",
    "\n",
    "for effect in ['Sugar Rush', \"Go Get 'Em, Tiger!\", \"Glittering Eyelashes\", \"Butt-Rock Hair\"]:\n",
    "    modsDF.loc[modsDF['NAME'] == effect,['hookah']] = 2\n",
    "\n",
    "modsDF.loc[:,['NAME','hookah']].sort_values(by=['hookah'],ascending=False).head(10)"
   ]
  },
  {
   "cell_type": "code",
   "execution_count": 68,
   "metadata": {},
   "outputs": [
    {
     "data": {
      "text/html": [
       "<div>\n",
       "<style scoped>\n",
       "    .dataframe tbody tr th:only-of-type {\n",
       "        vertical-align: middle;\n",
       "    }\n",
       "\n",
       "    .dataframe tbody tr th {\n",
       "        vertical-align: top;\n",
       "    }\n",
       "\n",
       "    .dataframe thead th {\n",
       "        text-align: right;\n",
       "    }\n",
       "</style>\n",
       "<table border=\"1\" class=\"dataframe\">\n",
       "  <thead>\n",
       "    <tr style=\"text-align: right;\">\n",
       "      <th></th>\n",
       "      <th>EFFECTSLIST</th>\n",
       "      <th>NAME</th>\n",
       "    </tr>\n",
       "  </thead>\n",
       "  <tbody>\n",
       "    <tr>\n",
       "      <th>3578</th>\n",
       "      <td>[Moxie: -5]</td>\n",
       "      <td>&amp;quot;The Disease&amp;quot;</td>\n",
       "    </tr>\n",
       "    <tr>\n",
       "      <th>3580</th>\n",
       "      <td>[Muscle: +6,  Moxie: -3]</td>\n",
       "      <td>1337p4n7Z</td>\n",
       "    </tr>\n",
       "    <tr>\n",
       "      <th>3581</th>\n",
       "      <td>[Experience: +3,  Experience (familiar): +3]</td>\n",
       "      <td>2 Hearts, 1 Mind</td>\n",
       "    </tr>\n",
       "    <tr>\n",
       "      <th>3587</th>\n",
       "      <td>[Familiar Weight: +5,  Experience (familiar): ...</td>\n",
       "      <td>A Girl Named Sue</td>\n",
       "    </tr>\n",
       "    <tr>\n",
       "      <th>3588</th>\n",
       "      <td>[Monster Level: +2]</td>\n",
       "      <td>[597]A Little Bit Evil</td>\n",
       "    </tr>\n",
       "  </tbody>\n",
       "</table>\n",
       "</div>"
      ],
      "text/plain": [
       "                                            EFFECTSLIST  \\\n",
       "3578                                        [Moxie: -5]   \n",
       "3580                           [Muscle: +6,  Moxie: -3]   \n",
       "3581       [Experience: +3,  Experience (familiar): +3]   \n",
       "3587  [Familiar Weight: +5,  Experience (familiar): ...   \n",
       "3588                                [Monster Level: +2]   \n",
       "\n",
       "                         NAME  \n",
       "3578  &quot;The Disease&quot;  \n",
       "3580                1337p4n7Z  \n",
       "3581         2 Hearts, 1 Mind  \n",
       "3587         A Girl Named Sue  \n",
       "3588   [597]A Little Bit Evil  "
      ]
     },
     "execution_count": 68,
     "metadata": {},
     "output_type": "execute_result"
    }
   ],
   "source": [
    "# Looking at effects that do not appear to be hookah-activated, we see a \n",
    "#   lot of ML & \"negative\" effects; this fits our intuition. That said, \n",
    "#   there are a few here that are probably actually eligible.\n",
    "\n",
    "modsDF.loc[(modsDF['hookah']==0) & (modsDF['TYPE'] == 'Effect'),['EFFECTSLIST','NAME']].head()"
   ]
  },
  {
   "cell_type": "code",
   "execution_count": 69,
   "metadata": {},
   "outputs": [
    {
     "name": "stdout",
     "output_type": "stream",
     "text": [
      "Stone-Faced occurred in 2 of 2706 activations, a rate of 0.07%.\n",
      "Craft Tea occurred in 2 of 2706 activations, a rate of 0.07%.\n",
      "Inigo's Incantation of Inspiration occurred in 3 of 2706 activations, a rate of 0.11%.\n",
      "Covetous Robbery occurred in 2 of 2706 activations, a rate of 0.07%.\n",
      "Dirty Pear occurred in 2 of 2706 activations, a rate of 0.07%.\n",
      "Got Milk occurred in 2 of 2706 activations, a rate of 0.07%.\n",
      "Ode to Booze occurred in 1 of 2706 activations, a rate of 0.04%.\n"
     ]
    }
   ],
   "source": [
    "# Effects that are useful in and of themselves:\n",
    "\n",
    "usefulEffects = ['Stone-Faced',                                     # Useful to unlock the Hidden City\n",
    "                 'Craft Tea', \"Inigo's Incantation of Inspiration\", # Free crafts!\n",
    "                 \"Covetous Robbery\",                                # Gobs of extra meat\n",
    "                 \"Dirty Pear\",                                      # Doubles sleaze damage; OP for Copperhead\n",
    "                 \"Got Milk\", \"Ode to Booze\"                         # Extra adventures from food/booze\n",
    "                ]\n",
    "\n",
    "for eff in usefulEffects:\n",
    "    print('{} occurred in {} of {} activations, a rate of {:.2%}.'.format(eff,countHookah[eff],len(hookah),countHookah[eff]/len(hookah)))"
   ]
  },
  {
   "cell_type": "code",
   "execution_count": 70,
   "metadata": {},
   "outputs": [],
   "source": [
    "def summarizeField(df, fName, c='g', lowBound=0):\n",
    "    ''' Summarization function for individual fields. '''\n",
    "    \n",
    "    # Filter down to only effects w/ hookah activations & relevant column for summarization\n",
    "    df = df.loc[df['hookah']>0,[fName,'hookah']]\n",
    "    \n",
    "    allActivations = sum(df['hookah'])\n",
    "    \n",
    "    # Cut out non-relevant activations now that we know the #\n",
    "    df = df.loc[df[fName]>lowBound,:]\n",
    "    \n",
    "    print('For {}, there were {} relevant activations out of {}, a rate of {:.2%}.\\n'.format(fName,sum(df['hookah']),allActivations,sum(df['hookah'])/allActivations))\n",
    "    \n",
    "    allAvg = sum(df[fName]*df['hookah'])/allActivations\n",
    "    popAvg = sum(df[fName]*df['hookah'])/sum(df['hookah'])\n",
    "    print('  Average per activation:    +{:0.5}'.format(allAvg))\n",
    "    print('  Average when activated:    +{:0.5}\\n'.format(popAvg))\n",
    "    print('  Maximum buff:              +{}, {} times\\n'.format(max(df[fName].values),sum(df.loc[df[fName]==max(df[fName]),['hookah']].values[0])))\n",
    "    \n",
    "    # Generate a nice histogram of the distribution of activation buffs assuming equal activations\n",
    "    fig, ax = plt.subplots()\n",
    "    sb.distplot(df[fName],kde = False, color=c,ax=ax)\n",
    "    ax.set(ylabel=\"# of Activations\") \n",
    "    sb.set_style(\"dark\")\n",
    "    sb.despine()\n",
    "    plt.show()\n",
    "    "
   ]
  },
  {
   "cell_type": "code",
   "execution_count": 71,
   "metadata": {
    "scrolled": false
   },
   "outputs": [
    {
     "name": "stdout",
     "output_type": "stream",
     "text": [
      "For init, there were 168 relevant activations out of 2517, a rate of 6.67%.\n",
      "\n",
      "  Average per activation:    +3.3186\n",
      "  Average when activated:    +49.72\n",
      "\n",
      "  Maximum buff:              +300, 1 times\n",
      "\n"
     ]
    },
    {
     "data": {
      "image/png": "[encoded data removed]",
      "text/plain": [
       "<Figure size 432x288 with 1 Axes>"
      ]
     },
     "metadata": {},
     "output_type": "display_data"
    },
    {
     "name": "stdout",
     "output_type": "stream",
     "text": [
      "For meat, there were 129 relevant activations out of 2517, a rate of 5.13%.\n",
      "\n",
      "  Average per activation:    +2.468\n",
      "  Average when activated:    +48.155\n",
      "\n",
      "  Maximum buff:              +200, 1 times\n",
      "\n"
     ]
    },
    {
     "data": {
      "image/png": "[encoded data removed]",
      "text/plain": [
       "<Figure size 432x288 with 1 Axes>"
      ]
     },
     "metadata": {},
     "output_type": "display_data"
    },
    {
     "name": "stdout",
     "output_type": "stream",
     "text": [
      "For item, there were 169 relevant activations out of 2517, a rate of 6.71%.\n",
      "\n",
      "  Average per activation:    +1.7394\n",
      "  Average when activated:    +25.905\n",
      "\n",
      "  Maximum buff:              +100, 2 times\n",
      "\n"
     ]
    },
    {
     "data": {
      "image/png": "[encoded data removed]",
      "text/plain": [
       "<Figure size 432x288 with 1 Axes>"
      ]
     },
     "metadata": {},
     "output_type": "display_data"
    },
    {
     "name": "stdout",
     "output_type": "stream",
     "text": [
      "For sleazeDmg, there were 86 relevant activations out of 2517, a rate of 3.42%.\n",
      "\n",
      "  Average per activation:    +0.87406\n",
      "  Average when activated:    +25.581\n",
      "\n",
      "  Maximum buff:              +100, 1 times\n",
      "\n"
     ]
    },
    {
     "data": {
      "image/png": "[encoded data removed]",
      "text/plain": [
       "<Figure size 432x288 with 1 Axes>"
      ]
     },
     "metadata": {},
     "output_type": "display_data"
    },
    {
     "name": "stdout",
     "output_type": "stream",
     "text": [
      "For sleazeRes, there were 65 relevant activations out of 2517, a rate of 2.58%.\n",
      "\n",
      "  Average per activation:    +0.061979\n",
      "  Average when activated:    +2.4\n",
      "\n",
      "  Maximum buff:              +9, 2 times\n",
      "\n"
     ]
    },
    {
     "data": {
      "image/png": "[encoded data removed]",
      "text/plain": [
       "<Figure size 432x288 with 1 Axes>"
      ]
     },
     "metadata": {},
     "output_type": "display_data"
    },
    {
     "name": "stdout",
     "output_type": "stream",
     "text": [
      "For poolSkill, there were 7 relevant activations out of 2517, a rate of 0.28%.\n",
      "\n",
      "  Average per activation:    +0.0099325\n",
      "  Average when activated:    +3.5714\n",
      "\n",
      "  Maximum buff:              +5, 1 times\n",
      "\n"
     ]
    },
    {
     "data": {
      "image/png": "[encoded data removed]",
      "text/plain": [
       "<Figure size 432x288 with 1 Axes>"
      ]
     },
     "metadata": {},
     "output_type": "display_data"
    },
    {
     "name": "stdout",
     "output_type": "stream",
     "text": [
      "For famWeight, there were 92 relevant activations out of 2517, a rate of 3.66%.\n",
      "\n",
      "  Average per activation:    +0.21891\n",
      "  Average when activated:    +5.9891\n",
      "\n",
      "  Maximum buff:              +10, 3 times\n",
      "\n"
     ]
    },
    {
     "data": {
      "image/png": "[encoded data removed]",
      "text/plain": [
       "<Figure size 432x288 with 1 Axes>"
      ]
     },
     "metadata": {},
     "output_type": "display_data"
    },
    {
     "name": "stdout",
     "output_type": "stream",
     "text": [
      "For flatXP, there were 166 relevant activations out of 2517, a rate of 6.60%.\n",
      "\n",
      "  Average per activation:    +0.24474\n",
      "  Average when activated:    +3.7108\n",
      "\n",
      "  Maximum buff:              +12, 1 times\n",
      "\n"
     ]
    },
    {
     "data": {
      "image/png": "[encoded data removed]",
      "text/plain": [
       "<Figure size 432x288 with 1 Axes>"
      ]
     },
     "metadata": {},
     "output_type": "display_data"
    },
    {
     "name": "stdout",
     "output_type": "stream",
     "text": [
      "For pctXP, there were 24 relevant activations out of 2517, a rate of 0.95%.\n",
      "\n",
      "  Average per activation:    +0.14104\n",
      "  Average when activated:    +14.792\n",
      "\n",
      "  Maximum buff:              +25, 1 times\n",
      "\n"
     ]
    },
    {
     "data": {
      "image/png": "[encoded data removed]",
      "text/plain": [
       "<Figure size 432x288 with 1 Axes>"
      ]
     },
     "metadata": {},
     "output_type": "display_data"
    },
    {
     "name": "stdout",
     "output_type": "stream",
     "text": [
      "For flatStats, there were 324 relevant activations out of 2517, a rate of 12.87%.\n",
      "\n",
      "  Average per activation:    +3.0795\n",
      "  Average when activated:    +23.923\n",
      "\n",
      "  Maximum buff:              +120, 2 times\n",
      "\n"
     ]
    },
    {
     "data": {
      "image/png": "[encoded data removed]",
      "text/plain": [
       "<Figure size 432x288 with 1 Axes>"
      ]
     },
     "metadata": {},
     "output_type": "display_data"
    },
    {
     "name": "stdout",
     "output_type": "stream",
     "text": [
      "For pctStat, there were 444 relevant activations out of 2517, a rate of 17.64%.\n",
      "\n",
      "  Average per activation:    +13.931\n",
      "  Average when activated:    +78.973\n",
      "\n",
      "  Maximum buff:              +600, 3 times\n",
      "\n"
     ]
    },
    {
     "data": {
      "image/png": "[encoded data removed]",
      "text/plain": [
       "<Figure size 432x288 with 1 Axes>"
      ]
     },
     "metadata": {},
     "output_type": "display_data"
    }
   ],
   "source": [
    "buffsAnalyzed = ['init','meat','item','sleazeDmg','sleazeRes','poolSkill',\n",
    "                 'famWeight','flatXP','pctXP','flatStats','pctStat']\n",
    "\n",
    "cmap = plt.cm.get_cmap('hsv',len(buffsAnalyzed))\n",
    "\n",
    "for i, x in enumerate(buffsAnalyzed):\n",
    "    summarizeField(modsDF, x, c=cmap(i))"
   ]
  },
  {
   "cell_type": "code",
   "execution_count": 72,
   "metadata": {},
   "outputs": [
    {
     "name": "stdout",
     "output_type": "stream",
     "text": [
      "Slicked-Back Do (5)\n",
      "Stickler for Promptness (2)\n",
      "Temporary Amnesia (2)\n",
      "Ode to Booze (1)\n",
      "Vanity Rage (1)\n",
      "Everything Looks Yellow (3)\n",
      "Booing Radly (3)\n",
      "Burning Tongue (1)\n",
      "Eau de Tortue (4)\n",
      "Sticky Hands (3)\n",
      "Red-Shirted Escort (2)\n",
      "Deep-Seated Rage (2)\n",
      "Super Skill (2)\n",
      "Hammertime (3)\n",
      "Permanent Halloween (1)\n",
      "Cotton Mouthed (3)\n",
      "Boon of the War Snapper (1)\n",
      "Don't Rest Ye, Bold Adventurer (1)\n",
      "All Covered In Whatsit (4)\n",
      "Fudge Headache (3)\n",
      "Jingle Jangle Jingle (2)\n",
      "Wolf's Bane (2)\n",
      "Partially Ghosted (3)\n",
      "Frosty the Hitman (2)\n",
      "Little Mouse Skull Buddy (2)\n",
      "Mathematically Precise (1)\n",
      "Coal-Powered (4)\n",
      "Robocamo (3)\n",
      "Salty Mouth (1)\n",
      "Coy to the Hurled (2)\n",
      "Curse of the Black Pearl Onion (1)\n",
      "Yes, Can Haz (3)\n",
      "Jelly Combed (4)\n",
      "Cookie Backup (1)\n",
      "Chocolate Reign (5)\n",
      "Pygmy Drinking Buddy (3)\n",
      "Flimsy Shield of the Pastalord (4)\n",
      "Angry Bone (1)\n",
      "Biologically Shocked (1)\n",
      "Psalm of Pointiness (2)\n",
      "X-Ray Vision (1)\n",
      "Smokin' (3)\n",
      "Bone Homie (2)\n",
      "Got Milk (2)\n",
      "Bloody-minded (4)\n",
      "Earthen Fist (3)\n",
      "Hip to the Jive (3)\n",
      "Ruthlessly Efficient (4)\n",
      "Covetous Robbery (2)\n",
      "Tropical Contact High (2)\n",
      "Spooky Breath (1)\n",
      "It's Electric! (2)\n",
      "A Taste of Rainbow (2)\n",
      "Boon of the Storm Tortoise (3)\n",
      "Craft Tea (2)\n",
      "Stinkybeard (1)\n",
      "Buggy Flavor (1)\n",
      "Dirty Pear (2)\n",
      "Pemmican't (1)\n",
      "Sticks and Stones (3)\n",
      "Braaaains Over Braaaawwn (1)\n",
      "Gummi Badass (1)\n",
      "EVISCERATE! (2)\n",
      "Dancin' Fool (2)\n",
      "Black Lung (2)\n",
      "Fudgehound (2)\n",
      "Sharp Weapon (3)\n",
      "Icy Composition (1)\n",
      "Fishy (1)\n",
      "Fangs and Pangs (2)\n",
      "Chalk Outline (1)\n",
      "Spiky Frozen Hair (3)\n"
     ]
    }
   ],
   "source": [
    "# Parsing out buffs that appeared in my hookah logs but cannot be merged w/ the modifiers table\n",
    "\n",
    "modBuffs = set(modsDF.loc[(modsDF['hookah']>0),'NAME'].tolist())\n",
    "\n",
    "for x in set(set(hookah) - modBuffs):\n",
    "    print('{} ({})'.format(x,countHookah[x]))"
   ]
  }
 ],
 "metadata": {
  "kernelspec": {
   "display_name": "Python 3",
   "language": "python",
   "name": "python3"
  },
  "language_info": {
   "codemirror_mode": {
    "name": "ipython",
    "version": 3
   },
   "file_extension": ".py",
   "mimetype": "text/x-python",
   "name": "python",
   "nbconvert_exporter": "python",
   "pygments_lexer": "ipython3",
   "version": "3.6.5"
  }
 },
 "nbformat": 4,
 "nbformat_minor": 2
}
