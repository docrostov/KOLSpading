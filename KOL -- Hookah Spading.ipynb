{
 "cells": [
  {
   "cell_type": "code",
   "execution_count": 167,
   "metadata": {},
   "outputs": [],
   "source": [
    "import pandas as pd\n",
    "import os\n",
    "import requests\n",
    "import numpy as np\n",
    "from collections import Counter\n",
    "\n",
    "import seaborn as sb\n",
    "from matplotlib import pyplot as plt\n",
    "\n",
    "# Import modifiers from the most recent KOLMafia build. \n",
    "mafiaMODS = requests.get('https://svn.code.sf.net/p/kolmafia/code/src/data/modifiers.txt').text"
   ]
  },
  {
   "cell_type": "code",
   "execution_count": 181,
   "metadata": {},
   "outputs": [],
   "source": [
    "import warnings\n",
    "warnings.simplefilter('ignore')"
   ]
  },
  {
   "cell_type": "code",
   "execution_count": 91,
   "metadata": {},
   "outputs": [
    {
     "name": "stdout",
     "output_type": "stream",
     "text": [
      "There have been 1610 hookah activations in your sessions.\n"
     ]
    }
   ],
   "source": [
    "sessionDir   = '/Users/amcguire/Library/Application Support/KoLmafia/sessions'\n",
    "    \n",
    "# get all hookah effects\n",
    "\n",
    "hookah = []\n",
    "\n",
    "for file in os.listdir(sessionDir):\n",
    "    \n",
    "    # I use a Mac, so I have to correct for my DS store hidden files\n",
    "    if file != '.DS_Store':\n",
    "        \n",
    "        currFile = open('{}/{}'.format(sessionDir, file)).read()\n",
    "\n",
    "        for ct, line in enumerate(currFile.split(sep='\\n')):\n",
    "            if line[0:22] == 'You acquire an effect:': # Always the starting string.\n",
    "                if line[-3:] == '(6)': # Hookah activations always give 6 turns.\n",
    "                    hookah = hookah + [line[23:-3].strip()] # Add it to the list!\n",
    "                    \n",
    "print('There have been {} hookah activations in your sessions.'.format(len(hookah)))"
   ]
  },
  {
   "cell_type": "markdown",
   "metadata": {},
   "source": [
    "# WAYS HOOKAH EFFECTS CAN ACTUALLY SAVE TURNS, CATEGORIZED\n",
    "    1. generating inigos in a free fight so you have all 5 turns of it (1 turn)\n",
    "    2. the stone wool effect (depending on temple status can save a semirare or hunting for wool)\n",
    "    3. meat drop effects when you're doing nuns (anywhere from <1 to 2 turns @ maximum)\n",
    "    4. item drop effects when you're short on capping something (<1 turn)\n",
    "    5. init for modern zmobs (1-2 turns potentially)\n",
    "    6. sleaze dmg for protestor mob (very rare, but possibly saves a wish?)\n",
    "    7. prismatic dmg for tavern (or just whatever your missing, saves a turn maybe); NOT COVERED\n",
    "    8. sleaze res for blech house (rare and almost certainly 100% unnecessary)\n",
    "    9. covetous robbery making you extremely rich early in-run\n",
    "    10. +statgain flat or % effects\n",
    "    11. very, very high stat increases"
   ]
  },
  {
   "cell_type": "code",
   "execution_count": 123,
   "metadata": {},
   "outputs": [
    {
     "data": {
      "text/plain": [
       "{'meat': 150,\n",
       " 'item': 0,\n",
       " 'init': 0,\n",
       " 'sleazeDmg': 0,\n",
       " 'sleazeRes': 0,\n",
       " 'poolSkill': 0,\n",
       " 'famWeight': 0,\n",
       " 'flatXP': 0,\n",
       " 'pctXP': 0,\n",
       " 'flatStats': 0,\n",
       " 'pctStat': 150}"
      ]
     },
     "execution_count": 123,
     "metadata": {},
     "output_type": "execute_result"
    }
   ],
   "source": [
    "def modParse(x):\n",
    "    ''' Quick custom function w/ exception for parsing modifiers from plaintext '''\n",
    "    try: \n",
    "        return int(x.split('+')[1])\n",
    "    except:\n",
    "        return 0\n",
    "\n",
    "def parseEffects(eff):\n",
    "    ''' Function to parse through effects and generate #s according to useful in-run\n",
    "        applications of hookah/horsery effects, per those examined above. I am ignoring\n",
    "        Prismatic damage out of laziness; if you want to add it, just do a long \n",
    "        any-type list comp like I did for the flat/pct stats. '''\n",
    "    \n",
    "    meatDrop  = 0\n",
    "    itemDrop  = 0\n",
    "    init      = 0\n",
    "    sleazeDmg = 0\n",
    "    sleaseRes = 0\n",
    "    poolSkill = 0\n",
    "    \n",
    "    famWeight = 0\n",
    "    \n",
    "    flatXP    = 0\n",
    "    pctXP     = 0\n",
    "    \n",
    "    flatstat  = 0\n",
    "    pctstat   = 0\n",
    "    \n",
    "    for x in eff:\n",
    "        \n",
    "        if     'Initiative'            in x: init = init + modParse(x)\n",
    "        elif   'Meat Drop'             in x: meatDrop = meatDrop + modParse(x)\n",
    "        elif   'Item Drop'             in x: itemDrop = itemDrop + modParse(x)\n",
    "        elif   'Sleaze Damage'         in x: sleazeDmg = sleazeDmg + modParse(x)\n",
    "        elif   'Sleaze Spell Damage'   in x: sleazeDmg = sleazeDmg + modParse(x)\n",
    "        elif   'Sleaze Resistance'     in x: sleaseRes = sleaseRes + modParse(x)\n",
    "        elif   'Pool Skill'            in x: poolSkill = poolSkill + modParse(x)\n",
    "            \n",
    "        elif   'Familiar Weight'       in x: famWeight = famWeight + modParse(x)\n",
    "        \n",
    "        elif   'Experience Percent'    in x: pctXP = pctXP + modParse(x)\n",
    "        elif   'Experience (Familiar)' in x: flatXP = flatXP + 0\n",
    "        elif   'Experience'            in x: flatXP = flatXP + modParse(x)\n",
    "        \n",
    "        elif any(y in x for y in ['Moxie Percent','Mysticality Percent','Muscle Percent']): \n",
    "            pctstat = pctstat + modParse(x) \n",
    "        elif any(y in x for y in ['Moxie','Mysticality','Muscle']): \n",
    "            flatstat = flatstat + modParse(x)\n",
    "    \n",
    "    effDict = {'meat':meatDrop, 'item':itemDrop,'init':init, 'sleazeDmg':sleazeDmg, \n",
    "               'sleazeRes':sleaseRes, 'poolSkill':poolSkill, 'famWeight':famWeight,\n",
    "               'flatXP':flatXP,'pctXP':pctXP,'flatStats':flatstat,'pctStat':pctstat}\n",
    "    \n",
    "    return effDict\n",
    "\n",
    "# test it w/ wolf form, which should have 150 mus% and 150 meatdrop\n",
    "parseEffects(modsDF.loc[modsDF['NAME']=='Wolf Form',['EFFECTS']].values[0][0])"
   ]
  },
  {
   "cell_type": "code",
   "execution_count": 109,
   "metadata": {},
   "outputs": [
    {
     "data": {
      "text/html": [
       "<div>\n",
       "<style scoped>\n",
       "    .dataframe tbody tr th:only-of-type {\n",
       "        vertical-align: middle;\n",
       "    }\n",
       "\n",
       "    .dataframe tbody tr th {\n",
       "        vertical-align: top;\n",
       "    }\n",
       "\n",
       "    .dataframe thead th {\n",
       "        text-align: right;\n",
       "    }\n",
       "</style>\n",
       "<table border=\"1\" class=\"dataframe\">\n",
       "  <thead>\n",
       "    <tr style=\"text-align: right;\">\n",
       "      <th></th>\n",
       "      <th>EFFECTS</th>\n",
       "      <th>NAME</th>\n",
       "      <th>TYPE</th>\n",
       "      <th>hookah</th>\n",
       "    </tr>\n",
       "  </thead>\n",
       "  <tbody>\n",
       "    <tr>\n",
       "      <th>5147</th>\n",
       "      <td>[Damage Reduction: 3]</td>\n",
       "      <td>Stone-Faced</td>\n",
       "      <td>Effect</td>\n",
       "      <td>2</td>\n",
       "    </tr>\n",
       "  </tbody>\n",
       "</table>\n",
       "</div>"
      ],
      "text/plain": [
       "                    EFFECTS         NAME    TYPE  hookah\n",
       "5147  [Damage Reduction: 3]  Stone-Faced  Effect       2"
      ]
     },
     "execution_count": 109,
     "metadata": {},
     "output_type": "execute_result"
    }
   ],
   "source": [
    "modsDF.loc[modsDF['NAME']=='Stone-Faced',]"
   ]
  },
  {
   "cell_type": "code",
   "execution_count": 124,
   "metadata": {},
   "outputs": [],
   "source": [
    "def parseRawMods(txt):\n",
    "    ''' Parsing out what the effects actually do. Generates a dictionary. '''\n",
    "    if txt == '': # Remove blank rows.\n",
    "        return ''\n",
    "    elif txt[0] == '#': # Remove comments.\n",
    "        return ''\n",
    "    elif txt == '3': # Remove the weird extraneous \"3\" that starts the file\n",
    "        return ''\n",
    "    elif '\\tAvatar: ' in txt: # Remove avatar potions.\n",
    "        return\n",
    "    \n",
    "    effType = txt.split('\\t')[0]\n",
    "    effName = txt.split('\\t')[1]\n",
    "    effects = txt.split('\\t')[2].split(',')\n",
    "    effDict = parseEffects(effects)\n",
    "    \n",
    "    return {'NAME':effName,'TYPE':effType,'EFFECTSLIST':effects, **effDict}\n",
    "    \n",
    "modsList = list(filter(None, [parseRawMods(x) for x in mafiaMODS.split('\\n')]))\n",
    "modsDF = pd.DataFrame(modsList)"
   ]
  },
  {
   "cell_type": "code",
   "execution_count": 126,
   "metadata": {},
   "outputs": [
    {
     "name": "stdout",
     "output_type": "stream",
     "text": [
      "The Halls of Moxiousness gives the effects: [list(['Experience (Moxie): +3'])]\n",
      "Always be Collecting gives the effects: [list(['Item Drop: +50', ' Meat Drop: +100'])]\n",
      "The Wisdom... of the Future gives the effects: [list(['Mysticality Percent: +50', ' Mysticality: +15', ' Experience (Mysticality): +3'])]\n",
      "Spiky Hair gives the effects: [list(['Muscle: +6', ' Moxie: +6'])]\n",
      "Cruisin' for a Bruisin' gives the effects: [list(['Weapon Damage Percent: +100'])]\n"
     ]
    }
   ],
   "source": [
    "# testing to make sure the effects are properly generating\n",
    "\n",
    "for x in hookah[5:10]:\n",
    "    print('{} gives the effects: {}'.format(x, modsDF.loc[modsDF['NAME']==x,'EFFECTSLIST'].values))"
   ]
  },
  {
   "cell_type": "code",
   "execution_count": 127,
   "metadata": {},
   "outputs": [
    {
     "name": "stdout",
     "output_type": "stream",
     "text": [
      "                            NAME  hookah\n",
      "5167                  Sugar Rush      16\n",
      "4251          Go Get 'Em, Tiger!      14\n",
      "4245        Glittering Eyelashes      10\n",
      "3669                Astral Shell       8\n",
      "5409  Weapon of Mass Destruction       8\n"
     ]
    },
    {
     "data": {
      "text/html": [
       "<div>\n",
       "<style scoped>\n",
       "    .dataframe tbody tr th:only-of-type {\n",
       "        vertical-align: middle;\n",
       "    }\n",
       "\n",
       "    .dataframe tbody tr th {\n",
       "        vertical-align: top;\n",
       "    }\n",
       "\n",
       "    .dataframe thead th {\n",
       "        text-align: right;\n",
       "    }\n",
       "</style>\n",
       "<table border=\"1\" class=\"dataframe\">\n",
       "  <thead>\n",
       "    <tr style=\"text-align: right;\">\n",
       "      <th></th>\n",
       "      <th>NAME</th>\n",
       "      <th>hookah</th>\n",
       "    </tr>\n",
       "  </thead>\n",
       "  <tbody>\n",
       "    <tr>\n",
       "      <th>3669</th>\n",
       "      <td>Astral Shell</td>\n",
       "      <td>8</td>\n",
       "    </tr>\n",
       "    <tr>\n",
       "      <th>5409</th>\n",
       "      <td>Weapon of Mass Destruction</td>\n",
       "      <td>8</td>\n",
       "    </tr>\n",
       "    <tr>\n",
       "      <th>3900</th>\n",
       "      <td>Cinnamouth</td>\n",
       "      <td>5</td>\n",
       "    </tr>\n",
       "    <tr>\n",
       "      <th>4282</th>\n",
       "      <td>Grrrrrrreat!</td>\n",
       "      <td>5</td>\n",
       "    </tr>\n",
       "    <tr>\n",
       "      <th>4691</th>\n",
       "      <td>Neuroplastici Tea</td>\n",
       "      <td>5</td>\n",
       "    </tr>\n",
       "    <tr>\n",
       "      <th>5465</th>\n",
       "      <td>You Can Really Taste the Dormouse</td>\n",
       "      <td>5</td>\n",
       "    </tr>\n",
       "    <tr>\n",
       "      <th>4990</th>\n",
       "      <td>Shortened</td>\n",
       "      <td>5</td>\n",
       "    </tr>\n",
       "    <tr>\n",
       "      <th>4523</th>\n",
       "      <td>L'instinct F&amp;eacute;lin</td>\n",
       "      <td>5</td>\n",
       "    </tr>\n",
       "    <tr>\n",
       "      <th>3824</th>\n",
       "      <td>Bugbear in Tooth and Claw</td>\n",
       "      <td>5</td>\n",
       "    </tr>\n",
       "    <tr>\n",
       "      <th>4036</th>\n",
       "      <td>Down With Chow</td>\n",
       "      <td>4</td>\n",
       "    </tr>\n",
       "  </tbody>\n",
       "</table>\n",
       "</div>"
      ],
      "text/plain": [
       "                                   NAME  hookah\n",
       "3669                       Astral Shell       8\n",
       "5409         Weapon of Mass Destruction       8\n",
       "3900                         Cinnamouth       5\n",
       "4282                       Grrrrrrreat!       5\n",
       "4691                  Neuroplastici Tea       5\n",
       "5465  You Can Really Taste the Dormouse       5\n",
       "4990                          Shortened       5\n",
       "4523            L'instinct F&eacute;lin       5\n",
       "3824          Bugbear in Tooth and Claw       5\n",
       "4036                     Down With Chow       4"
      ]
     },
     "execution_count": 127,
     "metadata": {},
     "output_type": "execute_result"
    }
   ],
   "source": [
    "# Use an efficient counter function to figure out how many activations each respective skill had\n",
    "countHookah = Counter(hookah)\n",
    "modsDF['hookah'] = [countHookah[x] for x in modsDF.NAME]\n",
    "\n",
    "# When sorting by activations, noticed that Sugar Rush & the general \n",
    "#   store effects were high up. This makes some sense, as those can \n",
    "#   be generated in multiples of 3. Will floor these to 2 on the \n",
    "#   assumption mafia is incorrectly categorizing them.\n",
    "\n",
    "print(modsDF.loc[:,['NAME','hookah']].sort_values(by=['hookah'],ascending=False).head(5))\n",
    "\n",
    "for effect in ['Sugar Rush', \"Go Get 'Em, Tiger!\", \"Glittering Eyelashes\", \"Butt-Rock Hair\"]:\n",
    "    modsDF.loc[modsDF['NAME'] == effect,['hookah']] = 2\n",
    "\n",
    "modsDF.loc[:,['NAME','hookah']].sort_values(by=['hookah'],ascending=False).head(10)"
   ]
  },
  {
   "cell_type": "code",
   "execution_count": 130,
   "metadata": {},
   "outputs": [
    {
     "data": {
      "text/html": [
       "<div>\n",
       "<style scoped>\n",
       "    .dataframe tbody tr th:only-of-type {\n",
       "        vertical-align: middle;\n",
       "    }\n",
       "\n",
       "    .dataframe tbody tr th {\n",
       "        vertical-align: top;\n",
       "    }\n",
       "\n",
       "    .dataframe thead th {\n",
       "        text-align: right;\n",
       "    }\n",
       "</style>\n",
       "<table border=\"1\" class=\"dataframe\">\n",
       "  <thead>\n",
       "    <tr style=\"text-align: right;\">\n",
       "      <th></th>\n",
       "      <th>EFFECTSLIST</th>\n",
       "      <th>NAME</th>\n",
       "    </tr>\n",
       "  </thead>\n",
       "  <tbody>\n",
       "    <tr>\n",
       "      <th>3578</th>\n",
       "      <td>[Moxie: -5]</td>\n",
       "      <td>&amp;quot;The Disease&amp;quot;</td>\n",
       "    </tr>\n",
       "    <tr>\n",
       "      <th>3580</th>\n",
       "      <td>[Muscle: +6,  Moxie: -3]</td>\n",
       "      <td>1337p4n7Z</td>\n",
       "    </tr>\n",
       "    <tr>\n",
       "      <th>3581</th>\n",
       "      <td>[Experience: +3,  Experience (familiar): +3]</td>\n",
       "      <td>2 Hearts, 1 Mind</td>\n",
       "    </tr>\n",
       "    <tr>\n",
       "      <th>3587</th>\n",
       "      <td>[Familiar Weight: +5,  Experience (familiar): ...</td>\n",
       "      <td>A Girl Named Sue</td>\n",
       "    </tr>\n",
       "    <tr>\n",
       "      <th>3588</th>\n",
       "      <td>[Monster Level: +2]</td>\n",
       "      <td>[597]A Little Bit Evil</td>\n",
       "    </tr>\n",
       "  </tbody>\n",
       "</table>\n",
       "</div>"
      ],
      "text/plain": [
       "                                            EFFECTSLIST  \\\n",
       "3578                                        [Moxie: -5]   \n",
       "3580                           [Muscle: +6,  Moxie: -3]   \n",
       "3581       [Experience: +3,  Experience (familiar): +3]   \n",
       "3587  [Familiar Weight: +5,  Experience (familiar): ...   \n",
       "3588                                [Monster Level: +2]   \n",
       "\n",
       "                         NAME  \n",
       "3578  &quot;The Disease&quot;  \n",
       "3580                1337p4n7Z  \n",
       "3581         2 Hearts, 1 Mind  \n",
       "3587         A Girl Named Sue  \n",
       "3588   [597]A Little Bit Evil  "
      ]
     },
     "execution_count": 130,
     "metadata": {},
     "output_type": "execute_result"
    }
   ],
   "source": [
    "# Looking at effects that do not appear to be hookah-activated, we see a \n",
    "#   lot of ML & \"negative\" effects; this fits our intuition. That said, \n",
    "#   there are a few here that are probably actually eligible.\n",
    "\n",
    "modsDF.loc[(modsDF['hookah']==0) & (modsDF['TYPE'] == 'Effect'),['EFFECTSLIST','NAME']].head()"
   ]
  },
  {
   "cell_type": "code",
   "execution_count": 186,
   "metadata": {},
   "outputs": [
    {
     "name": "stdout",
     "output_type": "stream",
     "text": [
      "Stone-Faced occurred in 2 of 1610 activations, a rate of 0.12%.\n",
      "Craft Tea occurred in 1 of 1610 activations, a rate of 0.06%.\n",
      "Inigo's Incantation of Inspiration occurred in 2 of 1610 activations, a rate of 0.12%.\n",
      "Covetous Robbery occurred in 1 of 1610 activations, a rate of 0.06%.\n",
      "Dirty Pear occurred in 1 of 1610 activations, a rate of 0.06%.\n"
     ]
    }
   ],
   "source": [
    "# Effects that are useful in and of themselves:\n",
    "\n",
    "usefulEffects = ['Stone-Faced', 'Craft Tea', \"Inigo's Incantation of Inspiration\", \"Covetous Robbery\",\"Dirty Pear\"]\n",
    "\n",
    "for eff in usefulEffects:\n",
    "    print('{} occurred in {} of {} activations, a rate of {:.2%}.'.format(eff,countHookah[eff],len(hookah),countHookah[eff]/len(hookah)))"
   ]
  },
  {
   "cell_type": "code",
   "execution_count": 193,
   "metadata": {},
   "outputs": [],
   "source": [
    "def summarizeField(df, fName, c='g', lowBound=0):\n",
    "    ''' Summarization function for individual fields. '''\n",
    "    \n",
    "    # Filter down to only effects w/ hookah activations & relevant column for summarization\n",
    "    df = df.loc[df['hookah']>0,[fName,'hookah']]\n",
    "    \n",
    "    allActivations = sum(df['hookah'])\n",
    "    \n",
    "    # Cut out non-relevant activations now that we know the #\n",
    "    df = df.loc[df[fName]>lowBound,:]\n",
    "    \n",
    "    print('For {}, there were {} relevant activations out of {}, a rate of {:.2%}.\\n'.format(fName,sum(df['hookah']),allActivations,sum(df['hookah'])/allActivations))\n",
    "    \n",
    "    allAvg = sum(df[fName]*df['hookah'])/allActivations\n",
    "    popAvg = sum(df[fName]*df['hookah'])/sum(df['hookah'])\n",
    "    print('  Average per activation:    +{:0.5}'.format(allAvg))\n",
    "    print('  Average when activated:    +{:0.5}\\n'.format(popAvg))\n",
    "    print('  Maximum buff:              +{}, {} times\\n'.format(max(df[fName].values),sum(df.loc[df[fName]==max(df[fName]),['hookah']].values[0])))\n",
    "    \n",
    "    # Generate a nice histogram of the distribution of activation buffs assuming equal activations\n",
    "    fig, ax = plt.subplots()\n",
    "    sb.distplot(df[fName],kde = False, color=c,ax=ax)\n",
    "    ax.set(ylabel=\"# of Activations\") \n",
    "    sb.set_style(\"dark\")\n",
    "    sb.despine()\n",
    "    plt.show()\n",
    "    "
   ]
  },
  {
   "cell_type": "code",
   "execution_count": 194,
   "metadata": {
    "scrolled": false
   },
   "outputs": [
    {
     "name": "stdout",
     "output_type": "stream",
     "text": [
      "For init, there were 105 relevant activations out of 1491, a rate of 7.04%.\n",
      "\n",
      "  Average per activation:    +3.7344\n",
      "  Average when activated:    +53.029\n",
      "\n",
      "  Maximum buff:              +300, 1 times\n",
      "\n"
     ]
    },
    {
     "data": {
      "image/png": "[encoded data removed]",
      "text/plain": [
       "<Figure size 432x288 with 1 Axes>"
      ]
     },
     "metadata": {},
     "output_type": "display_data"
    },
    {
     "name": "stdout",
     "output_type": "stream",
     "text": [
      "For meat, there were 73 relevant activations out of 1491, a rate of 4.90%.\n",
      "\n",
      "  Average per activation:    +2.2669\n",
      "  Average when activated:    +46.301\n",
      "\n",
      "  Maximum buff:              +200, 1 times\n",
      "\n"
     ]
    },
    {
     "data": {
      "image/png": "[encoded data removed]",
      "text/plain": [
       "<Figure size 432x288 with 1 Axes>"
      ]
     },
     "metadata": {},
     "output_type": "display_data"
    },
    {
     "name": "stdout",
     "output_type": "stream",
     "text": [
      "For item, there were 86 relevant activations out of 1491, a rate of 5.77%.\n",
      "\n",
      "  Average per activation:    +1.4004\n",
      "  Average when activated:    +24.279\n",
      "\n",
      "  Maximum buff:              +100, 1 times\n",
      "\n"
     ]
    },
    {
     "data": {
      "image/png": "[encoded data removed]",
      "text/plain": [
       "<Figure size 432x288 with 1 Axes>"
      ]
     },
     "metadata": {},
     "output_type": "display_data"
    },
    {
     "name": "stdout",
     "output_type": "stream",
     "text": [
      "For sleazeDmg, there were 48 relevant activations out of 1491, a rate of 3.22%.\n",
      "\n",
      "  Average per activation:    +0.85312\n",
      "  Average when activated:    +26.5\n",
      "\n",
      "  Maximum buff:              +100, 1 times\n",
      "\n"
     ]
    },
    {
     "data": {
      "image/png": "[encoded data removed]",
      "text/plain": [
       "<Figure size 432x288 with 1 Axes>"
      ]
     },
     "metadata": {},
     "output_type": "display_data"
    },
    {
     "name": "stdout",
     "output_type": "stream",
     "text": [
      "For sleazeRes, there were 49 relevant activations out of 1491, a rate of 3.29%.\n",
      "\n",
      "  Average per activation:    +0.073105\n",
      "  Average when activated:    +2.2245\n",
      "\n",
      "  Maximum buff:              +9, 1 times\n",
      "\n"
     ]
    },
    {
     "data": {
      "image/png": "[encoded data removed]",
      "text/plain": [
       "<Figure size 432x288 with 1 Axes>"
      ]
     },
     "metadata": {},
     "output_type": "display_data"
    },
    {
     "name": "stdout",
     "output_type": "stream",
     "text": [
      "For poolSkill, there were 6 relevant activations out of 1491, a rate of 0.40%.\n",
      "\n",
      "  Average per activation:    +0.013414\n",
      "  Average when activated:    +3.3333\n",
      "\n",
      "  Maximum buff:              +5, 1 times\n",
      "\n"
     ]
    },
    {
     "data": {
      "image/png": "[encoded data removed]",
      "text/plain": [
       "<Figure size 432x288 with 1 Axes>"
      ]
     },
     "metadata": {},
     "output_type": "display_data"
    },
    {
     "name": "stdout",
     "output_type": "stream",
     "text": [
      "For famWeight, there were 52 relevant activations out of 1491, a rate of 3.49%.\n",
      "\n",
      "  Average per activation:    +0.20657\n",
      "  Average when activated:    +5.9231\n",
      "\n",
      "  Maximum buff:              +10, 2 times\n",
      "\n"
     ]
    },
    {
     "data": {
      "image/png": "[encoded data removed]",
      "text/plain": [
       "<Figure size 432x288 with 1 Axes>"
      ]
     },
     "metadata": {},
     "output_type": "display_data"
    },
    {
     "name": "stdout",
     "output_type": "stream",
     "text": [
      "For flatXP, there were 96 relevant activations out of 1491, a rate of 6.44%.\n",
      "\n",
      "  Average per activation:    +0.24279\n",
      "  Average when activated:    +3.7708\n",
      "\n",
      "  Maximum buff:              +12, 1 times\n",
      "\n"
     ]
    },
    {
     "data": {
      "image/png": "[encoded data removed]",
      "text/plain": [
       "<Figure size 432x288 with 1 Axes>"
      ]
     },
     "metadata": {},
     "output_type": "display_data"
    },
    {
     "name": "stdout",
     "output_type": "stream",
     "text": [
      "For pctXP, there were 12 relevant activations out of 1491, a rate of 0.80%.\n",
      "\n",
      "  Average per activation:    +0.11066\n",
      "  Average when activated:    +13.75\n",
      "\n",
      "  Maximum buff:              +25, 2 times\n",
      "\n"
     ]
    },
    {
     "data": {
      "image/png": "[encoded data removed]",
      "text/plain": [
       "<Figure size 432x288 with 1 Axes>"
      ]
     },
     "metadata": {},
     "output_type": "display_data"
    },
    {
     "name": "stdout",
     "output_type": "stream",
     "text": [
      "For flatStats, there were 202 relevant activations out of 1491, a rate of 13.55%.\n",
      "\n",
      "  Average per activation:    +3.1791\n",
      "  Average when activated:    +23.465\n",
      "\n",
      "  Maximum buff:              +120, 2 times\n",
      "\n"
     ]
    },
    {
     "data": {
      "image/png": "[encoded data removed]",
      "text/plain": [
       "<Figure size 432x288 with 1 Axes>"
      ]
     },
     "metadata": {},
     "output_type": "display_data"
    },
    {
     "name": "stdout",
     "output_type": "stream",
     "text": [
      "For pctStat, there were 269 relevant activations out of 1491, a rate of 18.04%.\n",
      "\n",
      "  Average per activation:    +14.738\n",
      "  Average when activated:    +81.688\n",
      "\n",
      "  Maximum buff:              +600, 2 times\n",
      "\n"
     ]
    },
    {
     "data": {
      "image/png": "[encoded data removed]",
      "text/plain": [
       "<Figure size 432x288 with 1 Axes>"
      ]
     },
     "metadata": {},
     "output_type": "display_data"
    }
   ],
   "source": [
    "buffsAnalyzed = ['init','meat','item','sleazeDmg','sleazeRes','poolSkill',\n",
    "                 'famWeight','flatXP','pctXP','flatStats','pctStat']\n",
    "\n",
    "cmap = plt.cm.get_cmap('hsv',len(buffsAnalyzed))\n",
    "\n",
    "for i, x in enumerate(buffsAnalyzed):\n",
    "    summarizeField(modsDF, x, c=cmap(i))"
   ]
  }
 ],
 "metadata": {
  "kernelspec": {
   "display_name": "Python 3",
   "language": "python",
   "name": "python3"
  },
  "language_info": {
   "codemirror_mode": {
    "name": "ipython",
    "version": 3
   },
   "file_extension": ".py",
   "mimetype": "text/x-python",
   "name": "python",
   "nbconvert_exporter": "python",
   "pygments_lexer": "ipython3",
   "version": "3.6.5"
  }
 },
 "nbformat": 4,
 "nbformat_minor": 2
}
